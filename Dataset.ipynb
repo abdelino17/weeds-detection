{
 "cells": [
  {
   "cell_type": "code",
   "execution_count": null,
   "metadata": {
    "colab": {
     "base_uri": "https://localhost:8080/",
     "height": 93445
    },
    "colab_type": "code",
    "executionInfo": {
     "elapsed": 76932,
     "status": "ok",
     "timestamp": 1556823331578,
     "user": {
      "displayName": "abdel aziz Binguitcha Fare",
      "photoUrl": "",
      "userId": "12487534244034373614"
     },
     "user_tz": -330
    },
    "id": "NyKMbg0mYZQs",
    "outputId": "64f3c228-4212-4ee0-e687-eb282d51f285"
   },
   "outputs": [],
   "source": [
    "!mkdir -p /root/.kaggle/\n",
    "\n",
    "import json\n",
    "token = {\"username\":\"abdelino17\",\"key\":\"4d98f713923ea94844c503f0fa7e01f7\"}\n",
    "with open('/root/.kaggle/kaggle.json', 'w') as file:\n",
    "    json.dump(token, file)\n",
    "    \n",
    "!cat /root/.kaggle/kaggle.json\n",
    "\n",
    "!chmod 600 /root/.kaggle/kaggle.json\n",
    "\n",
    "!kaggle datasets download -d vbookshelf/v2-plant-seedlings-dataset -p /content\n",
    "\n",
    "!mkdir dataset && unzip -d dataset v2-plant-seedlings-dataset.zip\n",
    "\n",
    "from google.colab import drive\n",
    "\n",
    "drive.mount('/content/gdrive')"
   ]
  },
  {
   "cell_type": "code",
   "execution_count": 1,
   "metadata": {
    "colab": {},
    "colab_type": "code",
    "id": "vbQU_timFSJb"
   },
   "outputs": [],
   "source": [
    "!rm -rf data2 data"
   ]
  },
  {
   "cell_type": "code",
   "execution_count": 3,
   "metadata": {
    "colab": {},
    "colab_type": "code",
    "id": "mMHj7tHE3XXh"
   },
   "outputs": [],
   "source": [
    "RANDOM_SEED = 42\n",
    "DATASET_DIR = \"../dataset\"\n",
    "TRAIN_PERCENTAGE = 0.75\n",
    "AVOID_CLASS = \"Black-grass\""
   ]
  },
  {
   "cell_type": "code",
   "execution_count": 4,
   "metadata": {
    "colab": {},
    "colab_type": "code",
    "id": "5K1EOvcbPf4C"
   },
   "outputs": [],
   "source": [
    "import cv2\n",
    "from glob import glob\n",
    "import numpy as np\n",
    "from matplotlib import pyplot as plt\n",
    "import math\n",
    "import pandas as pd\n",
    "import os\n",
    "import random\n",
    "import shutil\n",
    "import tensorflow as tf\n",
    "\n",
    "np.random.seed(RANDOM_SEED)\n",
    "tf.set_random_seed(RANDOM_SEED)\n",
    "random.seed(RANDOM_SEED)"
   ]
  },
  {
   "cell_type": "code",
   "execution_count": 5,
   "metadata": {
    "colab": {
     "base_uri": "https://localhost:8080/",
     "height": 252
    },
    "colab_type": "code",
    "executionInfo": {
     "elapsed": 71706,
     "status": "ok",
     "timestamp": 1556823332186,
     "user": {
      "displayName": "abdel aziz Binguitcha Fare",
      "photoUrl": "",
      "userId": "12487534244034373614"
     },
     "user_tz": -330
    },
    "id": "CARUoyjuPgAA",
    "outputId": "39f8e20d-873f-4b20-9d2f-9fe6d6dfcf14"
   },
   "outputs": [
    {
     "name": "stdout",
     "output_type": "stream",
     "text": [
      "Black-grass 309\n",
      "Charlock 452\n",
      "Cleavers 335\n",
      "Common Chickweed 713\n",
      "Common wheat 253\n",
      "Fat Hen 538\n",
      "Loose Silky-bent 762\n",
      "Maize 257\n",
      "Scentless Mayweed 607\n",
      "Shepherd's Purse 274\n",
      "Small-flowered Cranesbill 576\n",
      "Sugar beet 463\n",
      "----------------------\n",
      "Total number of images: 5539\n"
     ]
    }
   ],
   "source": [
    "total = 0\n",
    "for dir in os.listdir(DATASET_DIR):\n",
    "    label = dir\n",
    "    num_files = len(os.listdir(os.path.join(DATASET_DIR, label)))\n",
    "    print(label, num_files)\n",
    "    total += num_files\n",
    "print(\"----------------------\")\n",
    "print(\"Total number of images:\", total)"
   ]
  },
  {
   "cell_type": "code",
   "execution_count": 6,
   "metadata": {
    "colab": {},
    "colab_type": "code",
    "id": "8uWAS6TPNQPU"
   },
   "outputs": [],
   "source": [
    "!rm -rf data\n",
    "\n",
    "data_dir = 'data'\n",
    "train_dir = os.path.join(data_dir, 'train')\n",
    "test_dir = os.path.join(data_dir, 'test')\n",
    "\n",
    "os.mkdir(data_dir)\n",
    "os.mkdir(train_dir)\n",
    "os.mkdir(test_dir)\n",
    "\n",
    "for dir in os.listdir(DATASET_DIR):\n",
    "    path = os.path.join(DATASET_DIR, str(dir))\n",
    "    files = os.listdir(path)\n",
    "    num_files = len(files)\n",
    "    num_train_files = int(num_files * TRAIN_PERCENTAGE) \n",
    "    \n",
    "    train_files = random.sample(files, num_train_files)\n",
    "    \n",
    "    test_files = [file for file in files if file not in train_files]\n",
    "    \n",
    "    i=0\n",
    "    j=0\n",
    "    \n",
    "    for file in train_files:  \n",
    "        if i==0:\n",
    "            os.mkdir(os.path.join(train_dir, dir))\n",
    "        src = os.path.join(path, file)\n",
    "        dst = os.path.join(train_dir, dir, file)\n",
    "        shutil.copy(src, dst)\n",
    "        i+=1\n",
    "    \n",
    "    for file in test_files:  \n",
    "        if j==0:\n",
    "            os.mkdir(os.path.join(test_dir, dir))\n",
    "        src = os.path.join(path, file)\n",
    "        new_file = str(dir) + \"_\" + file\n",
    "        dst = os.path.join(test_dir, dir, new_file)\n",
    "        shutil.copy(src, dst)\n",
    "        j+=1"
   ]
  },
  {
   "cell_type": "code",
   "execution_count": 7,
   "metadata": {
    "colab": {
     "base_uri": "https://localhost:8080/",
     "height": 521
    },
    "colab_type": "code",
    "executionInfo": {
     "elapsed": 81067,
     "status": "ok",
     "timestamp": 1556823345200,
     "user": {
      "displayName": "abdel aziz Binguitcha Fare",
      "photoUrl": "",
      "userId": "12487534244034373614"
     },
     "user_tz": -330
    },
    "id": "zk42ATS5K4vC",
    "outputId": "e4ff10e2-5270-4630-f62a-4e2e262bc955"
   },
   "outputs": [
    {
     "name": "stdout",
     "output_type": "stream",
     "text": [
      "All classes\n",
      "Black-grass 231\n",
      "Charlock 339\n",
      "Cleavers 251\n",
      "Common Chickweed 534\n",
      "Common wheat 189\n",
      "Fat Hen 403\n",
      "Loose Silky-bent 571\n",
      "Maize 192\n",
      "Scentless Mayweed 455\n",
      "Shepherd's Purse 205\n",
      "Small-flowered Cranesbill 432\n",
      "Sugar beet 347\n",
      "----------------------\n",
      "Total number of images in the train: 4149\n",
      "--------------------------------------------------------------------------\n",
      "Black-grass 78\n",
      "Charlock 113\n",
      "Cleavers 84\n",
      "Common Chickweed 179\n",
      "Common wheat 64\n",
      "Fat Hen 135\n",
      "Loose Silky-bent 191\n",
      "Maize 65\n",
      "Scentless Mayweed 152\n",
      "Shepherd's Purse 69\n",
      "Small-flowered Cranesbill 144\n",
      "Sugar beet 116\n",
      "----------------------\n",
      "Total number of images in the test: 1390\n"
     ]
    }
   ],
   "source": [
    "print(\"All classes\")\n",
    "total = 0\n",
    "for dir in os.listdir(train_dir):\n",
    "    label = dir\n",
    "    num_files = len(os.listdir(os.path.join(train_dir, label)))\n",
    "    print(label, num_files)\n",
    "    total += num_files\n",
    "print(\"----------------------\")\n",
    "print(\"Total number of images in the train:\", total)\n",
    "print(\"--------------------------------------------------------------------------\")\n",
    "total = 0\n",
    "for dir in os.listdir(test_dir):\n",
    "    label = dir\n",
    "    num_files = len(os.listdir(os.path.join(test_dir, label)))\n",
    "    print(label, num_files)\n",
    "    total += num_files\n",
    "print(\"----------------------\")\n",
    "print(\"Total number of images in the test:\", total)"
   ]
  },
  {
   "cell_type": "code",
   "execution_count": 8,
   "metadata": {
    "colab": {
     "base_uri": "https://localhost:8080/",
     "height": 34
    },
    "colab_type": "code",
    "executionInfo": {
     "elapsed": 76000,
     "status": "ok",
     "timestamp": 1556823347342,
     "user": {
      "displayName": "abdel aziz Binguitcha Fare",
      "photoUrl": "",
      "userId": "12487534244034373614"
     },
     "user_tz": -330
    },
    "id": "muOUh0f2Vkc0",
    "outputId": "51cec425-6657-4ac2-90ee-9237a95e885e"
   },
   "outputs": [
    {
     "name": "stderr",
     "output_type": "stream",
     "text": [
      "Using TensorFlow backend.\n"
     ]
    }
   ],
   "source": [
    "from keras.preprocessing.image import ImageDataGenerator,array_to_img, img_to_array, load_img\n",
    "import sys\n",
    "from PIL import Image\n",
    "sys.modules['Image'] = Image "
   ]
  },
  {
   "cell_type": "code",
   "execution_count": 9,
   "metadata": {
    "colab": {
     "base_uri": "https://localhost:8080/",
     "height": 70
    },
    "colab_type": "code",
    "executionInfo": {
     "elapsed": 75238,
     "status": "ok",
     "timestamp": 1556823347343,
     "user": {
      "displayName": "abdel aziz Binguitcha Fare",
      "photoUrl": "",
      "userId": "12487534244034373614"
     },
     "user_tz": -330
    },
    "id": "F1w3byWZVkfq",
    "outputId": "5ff548a4-e670-40c9-ce7b-a2e8b4a90427"
   },
   "outputs": [
    {
     "name": "stderr",
     "output_type": "stream",
     "text": [
      "C:\\Users\\Abdel\\Anaconda3\\envs\\tf-gpu\\lib\\site-packages\\keras_preprocessing\\image\\image_data_generator.py:334: UserWarning: This ImageDataGenerator specifies `zca_whitening`, which overrides setting of `featurewise_center`.\n",
      "  warnings.warn('This ImageDataGenerator specifies '\n"
     ]
    }
   ],
   "source": [
    "datagen = ImageDataGenerator(\n",
    "        brightness_range=[0.1, 2],\n",
    "        featurewise_center=False,  # set input mean to 0 over the dataset\n",
    "        samplewise_center=False,  # set each sample mean to 0\n",
    "        featurewise_std_normalization=False,  # divide inputs by std of the dataset\n",
    "        samplewise_std_normalization=False,  # divide each input by its std\n",
    "        zca_whitening=True,  # apply ZCA whitening\n",
    "        rotation_range=360,  # randomly rotate images in the range (degrees, 0 to 180)\n",
    "        zoom_range=0.2, # Randomly zoom image \n",
    "        width_shift_range=0.3,  # randomly shift images horizontally (fraction of total width)\n",
    "        height_shift_range=0.3,  # randomly shift images vertically (fraction of total height)\n",
    "        horizontal_flip=True,  # randomly flip images\n",
    "        fill_mode='nearest',\n",
    "        vertical_flip=True)  # randomly flip images"
   ]
  },
  {
   "cell_type": "code",
   "execution_count": 10,
   "metadata": {
    "colab": {},
    "colab_type": "code",
    "id": "MHGMuNi6VkiR"
   },
   "outputs": [],
   "source": [
    "number_samples_per_class = 600\n",
    "\n",
    "!rm -rf data/train_augmented\n",
    "src_dir = train_dir\n",
    "dst_dir = os.path.join(data_dir, 'train_augmented')\n",
    "os.mkdir(dst_dir)"
   ]
  },
  {
   "cell_type": "code",
   "execution_count": 11,
   "metadata": {
    "colab": {
     "base_uri": "https://localhost:8080/",
     "height": 978
    },
    "colab_type": "code",
    "executionInfo": {
     "elapsed": 591389,
     "status": "ok",
     "timestamp": 1556823867333,
     "user": {
      "displayName": "abdel aziz Binguitcha Fare",
      "photoUrl": "",
      "userId": "12487534244034373614"
     },
     "user_tz": -330
    },
    "id": "GrxyResDWBL3",
    "outputId": "69a806f4-02bf-49c2-8c6d-46c93169a38f"
   },
   "outputs": [
    {
     "name": "stdout",
     "output_type": "stream",
     "text": [
      "Directory  0\n"
     ]
    },
    {
     "name": "stderr",
     "output_type": "stream",
     "text": [
      "C:\\Users\\Abdel\\Anaconda3\\envs\\tf-gpu\\lib\\site-packages\\keras_preprocessing\\image\\image_data_generator.py:699: UserWarning: This ImageDataGenerator specifies `featurewise_center`, but it hasn't been fit on any training data. Fit it first by calling `.fit(numpy_data)`.\n",
      "  warnings.warn('This ImageDataGenerator specifies '\n",
      "C:\\Users\\Abdel\\Anaconda3\\envs\\tf-gpu\\lib\\site-packages\\keras_preprocessing\\image\\image_data_generator.py:718: UserWarning: This ImageDataGenerator specifies `zca_whitening`, but it hasn't been fit on any training data. Fit it first by calling `.fit(numpy_data)`.\n",
      "  warnings.warn('This ImageDataGenerator specifies '\n"
     ]
    },
    {
     "name": "stdout",
     "output_type": "stream",
     "text": [
      "Missing elts:  147\n",
      "Missing elts:  9\n",
      "-----------------------------------------------\n",
      "Directory  2\n",
      "Missing elts:  263\n",
      "Missing elts:  14\n",
      "Missing elts:  1\n",
      "-----------------------------------------------\n",
      "Directory  5\n",
      "Missing elts:  106\n",
      "Missing elts:  3\n",
      "-----------------------------------------------\n",
      "Directory  7\n",
      "Missing elts:  77\n",
      "Missing elts:  4\n",
      "-----------------------------------------------\n",
      "Directory  9\n",
      "Missing elts:  52\n",
      "Missing elts:  6\n",
      "Missing elts:  1\n",
      "-----------------------------------------------\n",
      "Directory  12\n",
      "Missing elts:  205\n",
      "Missing elts:  13\n",
      "-----------------------------------------------\n",
      "Directory  14\n",
      "Missing elts:  44\n",
      "Missing elts:  3\n",
      "-----------------------------------------------\n",
      "Directory  16\n",
      "Missing elts:  41\n",
      "-----------------------------------------------\n",
      "Directory  17\n",
      "Missing elts:  157\n",
      "Missing elts:  11\n",
      "Missing elts:  1\n",
      "-----------------------------------------------\n",
      "Directory  20\n",
      "Missing elts:  197\n",
      "Missing elts:  6\n",
      "-----------------------------------------------\n",
      "Directory  22\n",
      "Missing elts:  183\n",
      "Missing elts:  9\n",
      "Missing elts:  1\n",
      "-----------------------------------------------\n",
      "Directory  25\n",
      "Missing elts:  259\n",
      "Missing elts:  9\n",
      "Missing elts:  1\n",
      "-----------------------------------------------\n"
     ]
    }
   ],
   "source": [
    "!rm -rf data/train_augmented/*\n",
    "\n",
    "j=0\n",
    "for dir in os.listdir(src_dir):\n",
    "    path = os.path.join(src_dir, str(dir))\n",
    "    dst_class = os.path.join(dst_dir, str(dir))\n",
    "    files = os.listdir(path)\n",
    "    count = len(files)\n",
    "    print(\"Directory \", j)\n",
    "    ratio = math.floor(number_samples_per_class / count) - 1\n",
    "    for file in files:  \n",
    "        if not os.path.exists(dst_class):\n",
    "            os.mkdir(dst_class)\n",
    "        img = load_img(os.path.join(path, file))\n",
    "        new_img = img_to_array(img)\n",
    "        new_img = new_img.reshape((1, ) + new_img.shape)\n",
    "        i = 0\n",
    "        for batch in datagen.flow(new_img, batch_size=1, save_to_dir=dst_class, save_format='jpg'):\n",
    "            i+=1\n",
    "            if i > ratio:\n",
    "                break\n",
    "    dst_files = os.listdir(dst_class)\n",
    "    missing = number_samples_per_class - len(dst_files)\n",
    "    while missing > 0:\n",
    "        missing_samples = random.sample(files, missing)\n",
    "        print(\"Missing elts: \", missing)\n",
    "        for file in missing_samples:\n",
    "            img = load_img(os.path.join(path, file))\n",
    "            new_img = img_to_array(img)\n",
    "            new_img = new_img.reshape((1, ) + new_img.shape)\n",
    "            gen =  datagen.flow(new_img, batch_size=1, save_to_dir=dst_class, save_format='jpg')\n",
    "            next(gen)\n",
    "        dst_files = os.listdir(dst_class)\n",
    "        missing = number_samples_per_class - len(dst_files)\n",
    "        j+=1\n",
    "    print(\"-----------------------------------------------\")"
   ]
  },
  {
   "cell_type": "code",
   "execution_count": null,
   "metadata": {
    "colab": {},
    "colab_type": "code",
    "id": "6_Bt4iUYHMB-"
   },
   "outputs": [],
   "source": []
  },
  {
   "cell_type": "code",
   "execution_count": 12,
   "metadata": {
    "colab": {
     "base_uri": "https://localhost:8080/",
     "height": 302
    },
    "colab_type": "code",
    "executionInfo": {
     "elapsed": 588933,
     "status": "ok",
     "timestamp": 1556823867335,
     "user": {
      "displayName": "abdel aziz Binguitcha Fare",
      "photoUrl": "",
      "userId": "12487534244034373614"
     },
     "user_tz": -330
    },
    "id": "Jdy4uyq-WBO5",
    "outputId": "a7794005-388b-4418-9779-c8c442cbb793"
   },
   "outputs": [
    {
     "name": "stdout",
     "output_type": "stream",
     "text": [
      "All classes (with Data augmentation) \n",
      "\n",
      "Black-grass 600\n",
      "Charlock 600\n",
      "Cleavers 600\n",
      "Common Chickweed 600\n",
      "Common wheat 600\n",
      "Fat Hen 600\n",
      "Loose Silky-bent 600\n",
      "Maize 600\n",
      "Scentless Mayweed 600\n",
      "Shepherd's Purse 600\n",
      "Small-flowered Cranesbill 600\n",
      "Sugar beet 600\n",
      "----------------------\n",
      "Total number of images in the train dir with data augmentation: 7200\n",
      "--------------------------------------------------------------------------\n"
     ]
    }
   ],
   "source": [
    "print(\"All classes (with Data augmentation) \\n\")\n",
    "\n",
    "total = 0\n",
    "for dir in os.listdir(dst_dir):\n",
    "    label = dir\n",
    "    num_files = len(os.listdir(os.path.join(dst_dir, label)))\n",
    "    print(label, num_files)\n",
    "    total += num_files\n",
    "print(\"----------------------\")\n",
    "print(\"Total number of images in the train dir with data augmentation:\", total)\n",
    "print(\"--------------------------------------------------------------------------\")"
   ]
  },
  {
   "cell_type": "code",
   "execution_count": null,
   "metadata": {
    "colab": {},
    "colab_type": "code",
    "id": "URYLFmGlRkjP"
   },
   "outputs": [],
   "source": [
    "os.listdir(dst_dir)"
   ]
  },
  {
   "cell_type": "code",
   "execution_count": null,
   "metadata": {
    "colab": {},
    "colab_type": "code",
    "id": "BoHncwL2UW5v"
   },
   "outputs": [],
   "source": [
    "!cp /content/gdrive/My\\ Drive/Colab\\ Notebooks/final-model.pth ."
   ]
  },
  {
   "cell_type": "code",
   "execution_count": null,
   "metadata": {
    "colab": {},
    "colab_type": "code",
    "id": "b8UfLU2QoJpc"
   },
   "outputs": [],
   "source": [
    "plot_model(model, to_file='model.png')\n",
    "SVG(model_to_dot(model).create(prog='dot', format='svg'))"
   ]
  },
  {
   "cell_type": "code",
   "execution_count": 13,
   "metadata": {
    "colab": {},
    "colab_type": "code",
    "id": "Kauc7UjtH0NP"
   },
   "outputs": [
    {
     "ename": "ModuleNotFoundError",
     "evalue": "No module named 'imageio'",
     "output_type": "error",
     "traceback": [
      "\u001b[1;31m---------------------------------------------------------------------------\u001b[0m",
      "\u001b[1;31mModuleNotFoundError\u001b[0m                       Traceback (most recent call last)",
      "\u001b[1;32m<ipython-input-13-d6cde65a5671>\u001b[0m in \u001b[0;36m<module>\u001b[1;34m\u001b[0m\n\u001b[0;32m      2\u001b[0m \u001b[1;32mimport\u001b[0m \u001b[0mcv2\u001b[0m\u001b[1;33m\u001b[0m\u001b[1;33m\u001b[0m\u001b[0m\n\u001b[0;32m      3\u001b[0m \u001b[1;33m\u001b[0m\u001b[0m\n\u001b[1;32m----> 4\u001b[1;33m \u001b[1;32mimport\u001b[0m \u001b[0mimageio\u001b[0m\u001b[1;33m\u001b[0m\u001b[1;33m\u001b[0m\u001b[0m\n\u001b[0m\u001b[0;32m      5\u001b[0m \u001b[1;32mimport\u001b[0m \u001b[0mskimage\u001b[0m\u001b[1;33m\u001b[0m\u001b[1;33m\u001b[0m\u001b[0m\n\u001b[0;32m      6\u001b[0m \u001b[1;32mimport\u001b[0m \u001b[0mskimage\u001b[0m\u001b[1;33m.\u001b[0m\u001b[0mio\u001b[0m\u001b[1;33m\u001b[0m\u001b[1;33m\u001b[0m\u001b[0m\n",
      "\u001b[1;31mModuleNotFoundError\u001b[0m: No module named 'imageio'"
     ]
    }
   ],
   "source": [
    "import os\n",
    "import cv2\n",
    "\n",
    "import imageio\n",
    "import skimage\n",
    "import skimage.io\n",
    "import skimage.transform\n",
    "\n",
    "from sklearn.utils import shuffle\n",
    "from sklearn.metrics import confusion_matrix\n",
    "from sklearn.model_selection import train_test_split\n",
    "import itertools\n",
    "import shutil\n",
    "import matplotlib.pyplot as plt\n",
    "%matplotlib inline"
   ]
  },
  {
   "cell_type": "code",
   "execution_count": 14,
   "metadata": {
    "colab": {
     "base_uri": "https://localhost:8080/",
     "height": 218
    },
    "colab_type": "code",
    "executionInfo": {
     "elapsed": 530068,
     "status": "ok",
     "timestamp": 1556823869056,
     "user": {
      "displayName": "abdel aziz Binguitcha Fare",
      "photoUrl": "",
      "userId": "12487534244034373614"
     },
     "user_tz": -330
    },
    "id": "h90kGizlIDST",
    "outputId": "279225cd-6cde-4cbc-8d5d-b6f5771763da"
   },
   "outputs": [
    {
     "data": {
      "text/plain": [
       "['Black-grass',\n",
       " 'Charlock',\n",
       " 'Cleavers',\n",
       " 'Common Chickweed',\n",
       " 'Common wheat',\n",
       " 'Fat Hen',\n",
       " 'Loose Silky-bent',\n",
       " 'Maize',\n",
       " 'Scentless Mayweed',\n",
       " \"Shepherd's Purse\",\n",
       " 'Small-flowered Cranesbill',\n",
       " 'Sugar beet']"
      ]
     },
     "execution_count": 14,
     "metadata": {},
     "output_type": "execute_result"
    }
   ],
   "source": [
    "folder_dir = './data/test/'\n",
    "folder_list = os.listdir(folder_dir)\n",
    "folder_list"
   ]
  },
  {
   "cell_type": "code",
   "execution_count": 15,
   "metadata": {
    "colab": {},
    "colab_type": "code",
    "id": "hdbTRkZGIKXT"
   },
   "outputs": [],
   "source": [
    "!rm -rf data/test_cleaned\n",
    "new_test_dir = os.path.join(\"data\", \"test_cleaned\")\n",
    "os.mkdir(new_test_dir)\n",
    "\n",
    "for folder in folder_list:\n",
    "    \n",
    "    # create a path to the folder\n",
    "    path = folder_dir + str(folder)\n",
    "\n",
    "    # create a list of all files in the folder\n",
    "    file_list = os.listdir(path)\n",
    "\n",
    "    # move the 0 images to all_images_dir\n",
    "    for fname in file_list:\n",
    "\n",
    "        # source path to image\n",
    "        src = os.path.join(path, fname)\n",
    "        \n",
    "        # Change the file name because many images have the same file name.\n",
    "        # Add the folder name to the existing file name.\n",
    "        \n",
    "        # destination path to image\n",
    "        dst = os.path.join(new_test_dir, fname)\n",
    "        # copy the image from the source to the destination\n",
    "        shutil.copyfile(src, dst)"
   ]
  },
  {
   "cell_type": "code",
   "execution_count": null,
   "metadata": {
    "colab": {},
    "colab_type": "code",
    "id": "5oYFxvvOcQ1M"
   },
   "outputs": [],
   "source": [
    "! rm -rf data/train_augmented/models"
   ]
  },
  {
   "cell_type": "code",
   "execution_count": null,
   "metadata": {
    "colab": {},
    "colab_type": "code",
    "id": "Ivh47NnISZOB"
   },
   "outputs": [],
   "source": [
    "!rm -rf data/train_segmented\n",
    "seg_test_dir = os.path.join(\"data\", \"train_segmented\")\n",
    "os.mkdir(seg_test_dir)\n",
    "train_augmented = os.path.join(\"data\", \"train_augmented\")\n",
    "train_augmented_list = os.listdir(train_augmented)\n",
    "\n",
    "for folder in train_augmented_list:\n",
    "    \n",
    "    # create a path to the folder\n",
    "    path = os.path.join(train_augmented, str(folder))\n",
    "    dst_path = os.path.join(seg_test_dir, str(folder))\n",
    "    # create a list of all files in the folder\n",
    "    file_list = os.listdir(path)\n",
    "\n",
    "    # move the 0 images to all_images_dir\n",
    "    for fname in file_list:\n",
    "      \n",
    "        if not os.path.exists(dst_path):\n",
    "            os.mkdir(dst_path)\n",
    "\n",
    "        # source path to image\n",
    "        src = os.path.join(path, fname)\n",
    "        img = cv2.imread(src)\n",
    "        blurImg = cv2.GaussianBlur(img, (5, 5), 0)   \n",
    "    \n",
    "        # Convert to HSV image\n",
    "        hsvImg = cv2.cvtColor(blurImg, cv2.COLOR_BGR2HSV)  \n",
    "\n",
    "        # Create mask (parameters - green color range)\n",
    "        lower_green = (25, 40, 50)\n",
    "        upper_green = (75, 255, 255)\n",
    "        mask = cv2.inRange(hsvImg, lower_green, upper_green)  \n",
    "        kernel = cv2.getStructuringElement(cv2.MORPH_ELLIPSE, (11, 11))\n",
    "        mask = cv2.morphologyEx(mask, cv2.MORPH_CLOSE, kernel)\n",
    "\n",
    "        # Create bool mask\n",
    "        bMask = mask > 0  \n",
    "\n",
    "        # Apply the mask\n",
    "        clear = np.zeros_like(img, np.uint8)  # Create empty image\n",
    "        clear[bMask] = img[bMask]\n",
    "        \n",
    "        # destination path to image\n",
    "        dst = os.path.join(dst_path, fname)\n",
    "        cv2.imwrite(dst, clear)"
   ]
  },
  {
   "cell_type": "code",
   "execution_count": null,
   "metadata": {
    "colab": {},
    "colab_type": "code",
    "id": "05eoPZGXUMDa"
   },
   "outputs": [],
   "source": [
    "!rm -rf data/test_segmented\n",
    "seg_test_dir = os.path.join(\"data\", \"test_segmented\")\n",
    "os.mkdir(seg_test_dir)\n",
    "test = os.path.join(\"data\", \"test\")\n",
    "test_list = os.listdir(test)\n",
    "\n",
    "for folder in test_list:\n",
    "    \n",
    "    # create a path to the folder\n",
    "    path = os.path.join(test, str(folder))\n",
    "    dst_path = os.path.join(seg_test_dir, str(folder))\n",
    "    # create a list of all files in the folder\n",
    "    file_list = os.listdir(path)\n",
    "\n",
    "    # move the 0 images to all_images_dir\n",
    "    for fname in file_list:\n",
    "      \n",
    "        if not os.path.exists(dst_path):\n",
    "            os.mkdir(dst_path)\n",
    "\n",
    "        # source path to image\n",
    "        src = os.path.join(path, fname)\n",
    "        img = cv2.imread(src)\n",
    "        blurImg = cv2.GaussianBlur(img, (5, 5), 0)   \n",
    "    \n",
    "        # Convert to HSV image\n",
    "        hsvImg = cv2.cvtColor(blurImg, cv2.COLOR_BGR2HSV)  \n",
    "\n",
    "        # Create mask (parameters - green color range)\n",
    "        lower_green = (25, 40, 50)\n",
    "        upper_green = (75, 255, 255)\n",
    "        mask = cv2.inRange(hsvImg, lower_green, upper_green)  \n",
    "        kernel = cv2.getStructuringElement(cv2.MORPH_ELLIPSE, (11, 11))\n",
    "        mask = cv2.morphologyEx(mask, cv2.MORPH_CLOSE, kernel)\n",
    "\n",
    "        # Create bool mask\n",
    "        bMask = mask > 0  \n",
    "\n",
    "        # Apply the mask\n",
    "        clear = np.zeros_like(img, np.uint8)  # Create empty image\n",
    "        clear[bMask] = img[bMask]\n",
    "        \n",
    "        # destination path to image\n",
    "        dst = os.path.join(dst_path, fname)\n",
    "        cv2.imwrite(dst, clear)"
   ]
  },
  {
   "cell_type": "code",
   "execution_count": null,
   "metadata": {
    "colab": {},
    "colab_type": "code",
    "id": "PxruwSyjeLQV"
   },
   "outputs": [],
   "source": [
    "!rm -rf data/test_segmented_one\n",
    "new_test_dir = os.path.join(\"data\", \"test_segmented_one\")\n",
    "os.mkdir(new_test_dir)\n",
    "test = os.path.join(\"data\", \"test_segmented\")\n",
    "test_list = os.listdir(test)\n",
    "\n",
    "for folder in test_list:\n",
    "    \n",
    "    # create a path to the folder\n",
    "    path =os.path.join(test, str(folder))\n",
    "\n",
    "    # create a list of all files in the folder\n",
    "    file_list = os.listdir(path)\n",
    "\n",
    "    # move the 0 images to all_images_dir\n",
    "    for fname in file_list:\n",
    "\n",
    "        # source path to image\n",
    "        src = os.path.join(path, fname)\n",
    "        \n",
    "        # Change the file name because many images have the same file name.\n",
    "        # Add the folder name to the existing file name.\n",
    "        \n",
    "        # destination path to image\n",
    "        dst = os.path.join(new_test_dir, fname)\n",
    "        # copy the image from the source to the destination\n",
    "        shutil.copyfile(src, dst)"
   ]
  },
  {
   "cell_type": "code",
   "execution_count": null,
   "metadata": {
    "colab": {},
    "colab_type": "code",
    "id": "JDaErH_990cD"
   },
   "outputs": [],
   "source": [
    "!cp trained_model.pkl gdrive/My\\ Drive/Colab/."
   ]
  },
  {
   "cell_type": "code",
   "execution_count": null,
   "metadata": {
    "colab": {},
    "colab_type": "code",
    "id": "y7eFQbwm95jG"
   },
   "outputs": [],
   "source": [
    "!cp gdrive/My\\ Drive/Colab/start_350_v5.pth ."
   ]
  },
  {
   "cell_type": "code",
   "execution_count": null,
   "metadata": {
    "colab": {},
    "colab_type": "code",
    "id": "lRYCP7mo8hJN"
   },
   "outputs": [],
   "source": []
  }
 ],
 "metadata": {
  "accelerator": "GPU",
  "colab": {
   "collapsed_sections": [],
   "name": "my_dataset.ipynb",
   "provenance": [],
   "version": "0.3.2"
  },
  "kernelspec": {
   "display_name": "Python 3",
   "language": "python",
   "name": "python3"
  },
  "language_info": {
   "codemirror_mode": {
    "name": "ipython",
    "version": 3
   },
   "file_extension": ".py",
   "mimetype": "text/x-python",
   "name": "python",
   "nbconvert_exporter": "python",
   "pygments_lexer": "ipython3",
   "version": "3.7.4"
  }
 },
 "nbformat": 4,
 "nbformat_minor": 1
}
